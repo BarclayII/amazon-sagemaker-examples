{
 "cells": [
  {
   "cell_type": "markdown",
   "metadata": {},
   "source": [
    "## Training Knowledge Graph Embedding using the DGL with MXNet backend\n",
    "The **SageMaker Python SDK** makes it easy to train DGL models. In this example, we generate knowledge graph embedding using the [DMLC DGL API](https://github.com/dmlc/dgl.git) and FB15k dataset.\n",
    "\n",
    "For more details about Knowledge Graph Embedding and this example please refer to https://github.com/dmlc/dgl/tree/master/apps/kg\n"
   ]
  },
  {
   "cell_type": "markdown",
   "metadata": {},
   "source": [
    "### Setup\n",
    "We need to define a few variables that will be needed later in the example."
   ]
  },
  {
   "cell_type": "code",
   "execution_count": null,
   "metadata": {},
   "outputs": [],
   "source": [
    "import sagemaker\n",
    "from sagemaker import get_execution_role\n",
    "from sagemaker.session import Session\n",
    "\n",
    "# Setup session\n",
    "sess = sagemaker.Session()\n",
    "\n",
    "# S3 bucket for saving code and model artifacts.\n",
    "# Feel free to specify a different bucket here if you wish.\n",
    "bucket = sess.default_bucket()\n",
    "\n",
    "# Location to put your custom code.\n",
    "custom_code_upload_location = 'customcode'\n",
    "\n",
    "# IAM execution role that gives SageMaker access to resources in your AWS account.\n",
    "# We can use the SageMaker Python SDK to get the role from our notebook environment. \n",
    "role = get_execution_role()"
   ]
  },
  {
   "cell_type": "markdown",
   "metadata": {},
   "source": [
    "### Build KGE-MXNet docker image\n",
    "AWS provides basic docker images in https://docs.aws.amazon.com/dlami/latest/devguide/deep-learning-containers-images.html. For both pytorch 1.3 and mxnet 1.6, DGL is preinstalled. As this example needs additional dependancies, we provide a dockerfile to build a new image. You should build a KGE specific docker image and push it into your ECR.\n",
    "\n",
    "Note: Do change the KGE_mxnet.Dockerfile if you are in different region."
   ]
  },
  {
   "cell_type": "code",
   "execution_count": null,
   "metadata": {},
   "outputs": [],
   "source": [
    "%%sh\n",
    "# Build KGE docker image first\n",
    "docker_name=sagemaker-dgl-kge-mxnet\n",
    "$(aws ecr get-login --no-include-email --region ${region} --registry-ids 763104351884)\n",
    "docker build -t $docker_name -f KGE_mxnet.Dockerfile .\n",
    "\n",
    "account=$(aws sts get-caller-identity --query Account --output text)\n",
    "echo $account\n",
    "region=$(aws configure get region)\n",
    "# Get the login command from ECR and execute it directly and upload kge docker image into private ECR\n",
    "$(aws ecr get-login --region ${region} --no-include-email)\n",
    "\n",
    "fullname=\"${account}.dkr.ecr.${region}.amazonaws.com/${docker_name}:latest\"\n",
    "# If the repository doesn't exist in ECR, create it.\n",
    "aws ecr describe-repositories --repository-names \"${docker_name}\" > /dev/null 2>&1\n",
    "if [ $? -ne 0 ]\n",
    "then\n",
    "    aws ecr create-repository --repository-name \"${docker_name}\" > /dev/null\n",
    "fi\n",
    "\n",
    "docker tag ${docker_name} ${fullname}\n",
    "docker push ${fullname}"
   ]
  },
  {
   "cell_type": "markdown",
   "metadata": {},
   "source": [
    "### SageMaker's  estimator class\n",
    "The SageMaker Estimator allows us to run single machine in SageMaker, using CPU or GPU-based instances.\n",
    "\n",
    "When we create the estimator, we pass in the filename of our training script, the name of our IAM execution role. We also provide a few other parameters. train_instance_count and train_instance_type determine the number and type of SageMaker instances that will be used for the training job. The hyperparameters parameter is a dict of values that will be passed to your training script as parameters that you can use argparse to parse them."
   ]
  },
  {
   "cell_type": "code",
   "execution_count": null,
   "metadata": {},
   "outputs": [],
   "source": [
    "from sagemaker.mxnet.estimator import MXNet\n",
    "\n",
    "ENTRY_POINT = 'train.py'\n",
    "CODE_PATH = './'\n",
    "\n",
    "account = sess.boto_session.client('sts').get_caller_identity()['Account']\n",
    "region = sess.boto_session.region_name\n",
    "docker_name = \"sagemaker-dgl-kge-mxnet\"\n",
    "image = '{}.dkr.ecr.{}.amazonaws.com/{}:latest'.format(account, region, docker_name)\n",
    "\n",
    "params = {}\n",
    "params['dataset'] = 'FB15k'\n",
    "params['model'] = 'DistMult'\n",
    "params['batch_size'] = 1024\n",
    "params['neg_sample_size'] = 256\n",
    "params['hidden_dim'] = 2000\n",
    "params['gamma'] = 500.0\n",
    "params['lr'] = 0.1\n",
    "params['max_step'] = 100000\n",
    "params['batch_size_eval'] = 16\n",
    "params['valid'] = True\n",
    "params['test'] = True\n",
    "params['neg_adversarial_sampling'] = True\n",
    "\n",
    "estimator = MXNet(entry_point=ENTRY_POINT,\n",
    "                    source_dir=CODE_PATH,\n",
    "                    role=role, \n",
    "                    train_instance_count=1, \n",
    "                    train_instance_type='ml.p3.2xlarge',\n",
    "                    image_name=image,\n",
    "                    hyperparameters=params,\n",
    "                    sagemaker_session=sess)"
   ]
  },
  {
   "cell_type": "markdown",
   "metadata": {},
   "source": [
    "### Running the Training Job\n",
    "After we've constructed our Estimator object, we can fit it using sagemaker (The dataset will be automatically downloaded). Below we run SageMaker training on one channels: training-code, the code to run."
   ]
  },
  {
   "cell_type": "code",
   "execution_count": null,
   "metadata": {},
   "outputs": [],
   "source": [
    "estimator.fit(logs=True, wait=True)"
   ]
  },
  {
   "cell_type": "markdown",
   "metadata": {},
   "source": [
    "## Output\n",
    "You can get the resulting embedding output from the Sagemaker Console by searching for the training task and looking for the address of 'S3 model artifact'"
   ]
  },
  {
   "cell_type": "code",
   "execution_count": null,
   "metadata": {},
   "outputs": [],
   "source": []
  }
 ],
 "metadata": {
  "kernelspec": {
   "display_name": "conda_dgl_py36_mxnet1.5",
   "language": "python",
   "name": "conda_dgl_py36_mxnet1.5"
  },
  "language_info": {
   "codemirror_mode": {
    "name": "ipython",
    "version": 3
   },
   "file_extension": ".py",
   "mimetype": "text/x-python",
   "name": "python",
   "nbconvert_exporter": "python",
   "pygments_lexer": "ipython3",
   "version": "3.6.5"
  }
 },
 "nbformat": 4,
 "nbformat_minor": 2
}
